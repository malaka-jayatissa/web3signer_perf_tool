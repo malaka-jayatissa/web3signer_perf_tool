{
 "cells": [
  {
   "cell_type": "code",
   "execution_count": 3,
   "metadata": {},
   "outputs": [],
   "source": [
    "import os\n",
    "import pandas as pd\n",
    "import matplotlib.pyplot as plt"
   ]
  },
  {
   "cell_type": "code",
   "execution_count": 4,
   "metadata": {},
   "outputs": [
    {
     "data": {
      "text/html": [
       "<div>\n",
       "<style scoped>\n",
       "    .dataframe tbody tr th:only-of-type {\n",
       "        vertical-align: middle;\n",
       "    }\n",
       "\n",
       "    .dataframe tbody tr th {\n",
       "        vertical-align: top;\n",
       "    }\n",
       "\n",
       "    .dataframe thead th {\n",
       "        text-align: right;\n",
       "    }\n",
       "</style>\n",
       "<table border=\"1\" class=\"dataframe\">\n",
       "  <thead>\n",
       "    <tr style=\"text-align: right;\">\n",
       "      <th></th>\n",
       "      <th>return_code</th>\n",
       "      <th>payload</th>\n",
       "      <th>latency</th>\n",
       "      <th>throughput</th>\n",
       "    </tr>\n",
       "  </thead>\n",
       "  <tbody>\n",
       "    <tr>\n",
       "      <th>0</th>\n",
       "      <td>200</td>\n",
       "      <td>{\"signature\":\"0xadfe3b1003aae2af30e50298135cac...</td>\n",
       "      <td>406.1779</td>\n",
       "      <td>60</td>\n",
       "    </tr>\n",
       "    <tr>\n",
       "      <th>1</th>\n",
       "      <td>200</td>\n",
       "      <td>{\"signature\":\"0xb522a6e335e191b2f87f8be04d4e35...</td>\n",
       "      <td>378.5459</td>\n",
       "      <td>60</td>\n",
       "    </tr>\n",
       "    <tr>\n",
       "      <th>2</th>\n",
       "      <td>200</td>\n",
       "      <td>{\"signature\":\"0xb1e7bdf0ed49c87de8cbd955590d1b...</td>\n",
       "      <td>371.3515</td>\n",
       "      <td>60</td>\n",
       "    </tr>\n",
       "    <tr>\n",
       "      <th>3</th>\n",
       "      <td>200</td>\n",
       "      <td>{\"signature\":\"0xb3c721db07d84043234715db63bffd...</td>\n",
       "      <td>379.2316</td>\n",
       "      <td>60</td>\n",
       "    </tr>\n",
       "    <tr>\n",
       "      <th>4</th>\n",
       "      <td>200</td>\n",
       "      <td>{\"signature\":\"0xb43f642e1b189bafe13cd5e98b156a...</td>\n",
       "      <td>378.1444</td>\n",
       "      <td>60</td>\n",
       "    </tr>\n",
       "  </tbody>\n",
       "</table>\n",
       "</div>"
      ],
      "text/plain": [
       "   return_code                                            payload   latency  \\\n",
       "0          200  {\"signature\":\"0xadfe3b1003aae2af30e50298135cac...  406.1779   \n",
       "1          200  {\"signature\":\"0xb522a6e335e191b2f87f8be04d4e35...  378.5459   \n",
       "2          200  {\"signature\":\"0xb1e7bdf0ed49c87de8cbd955590d1b...  371.3515   \n",
       "3          200  {\"signature\":\"0xb3c721db07d84043234715db63bffd...  379.2316   \n",
       "4          200  {\"signature\":\"0xb43f642e1b189bafe13cd5e98b156a...  378.1444   \n",
       "\n",
       "   throughput  \n",
       "0          60  \n",
       "1          60  \n",
       "2          60  \n",
       "3          60  \n",
       "4          60  "
      ]
     },
     "execution_count": 4,
     "metadata": {},
     "output_type": "execute_result"
    }
   ],
   "source": [
    "dfs = []\n",
    "parent_file_location = os.path.dirname(os.path.abspath(os.getcwd()))\n",
    "latnecy_data_path = os.path.join(parent_file_location,'results','throughput','secure')\n",
    "for root, dir,files in os.walk(latnecy_data_path):\n",
    "    for file in files:\n",
    "        if file == 'raw_data.csv':\n",
    "            file_path = os.path.join(root, file)\n",
    "            df = pd.read_csv(file_path)\n",
    "            dfs.append(df)\n",
    "raw_df_secure = pd.concat(dfs, ignore_index=True)\n",
    "success_df_secure = raw_df_secure[raw_df_secure['return_code'] == 200]\n",
    "success_df_secure['latency'] = success_df_secure['latency']*1000\n",
    "success_df_secure.head()"
   ]
  },
  {
   "cell_type": "code",
   "execution_count": 5,
   "metadata": {},
   "outputs": [
    {
     "data": {
      "text/plain": [
       "(100, 4)"
      ]
     },
     "execution_count": 5,
     "metadata": {},
     "output_type": "execute_result"
    }
   ],
   "source": [
    "success_df_secure.shape"
   ]
  },
  {
   "cell_type": "code",
   "execution_count": 6,
   "metadata": {},
   "outputs": [
    {
     "data": {
      "text/html": [
       "<div>\n",
       "<style scoped>\n",
       "    .dataframe tbody tr th:only-of-type {\n",
       "        vertical-align: middle;\n",
       "    }\n",
       "\n",
       "    .dataframe tbody tr th {\n",
       "        vertical-align: top;\n",
       "    }\n",
       "\n",
       "    .dataframe thead th {\n",
       "        text-align: right;\n",
       "    }\n",
       "</style>\n",
       "<table border=\"1\" class=\"dataframe\">\n",
       "  <thead>\n",
       "    <tr style=\"text-align: right;\">\n",
       "      <th></th>\n",
       "      <th>return_code</th>\n",
       "      <th>payload</th>\n",
       "      <th>latency</th>\n",
       "      <th>throughput</th>\n",
       "    </tr>\n",
       "  </thead>\n",
       "  <tbody>\n",
       "    <tr>\n",
       "      <th>0</th>\n",
       "      <td>200</td>\n",
       "      <td>{'signature': '0xa25825bf160189b160a85980b0d02...</td>\n",
       "      <td>406.2623</td>\n",
       "      <td>60</td>\n",
       "    </tr>\n",
       "    <tr>\n",
       "      <th>1</th>\n",
       "      <td>200</td>\n",
       "      <td>{'signature': '0xa202d72813638e7bcf0e8d90942e5...</td>\n",
       "      <td>366.0465</td>\n",
       "      <td>60</td>\n",
       "    </tr>\n",
       "    <tr>\n",
       "      <th>2</th>\n",
       "      <td>200</td>\n",
       "      <td>{'signature': '0xb6ffc3c152b40b8c2ef666c3bf564...</td>\n",
       "      <td>454.8093</td>\n",
       "      <td>60</td>\n",
       "    </tr>\n",
       "    <tr>\n",
       "      <th>3</th>\n",
       "      <td>200</td>\n",
       "      <td>{'signature': '0x83da8041d55269c847612d82257ff...</td>\n",
       "      <td>464.4123</td>\n",
       "      <td>60</td>\n",
       "    </tr>\n",
       "    <tr>\n",
       "      <th>4</th>\n",
       "      <td>200</td>\n",
       "      <td>{'signature': '0x997e3abb06ad93bf5cad8510a197b...</td>\n",
       "      <td>407.8439</td>\n",
       "      <td>60</td>\n",
       "    </tr>\n",
       "  </tbody>\n",
       "</table>\n",
       "</div>"
      ],
      "text/plain": [
       "   return_code                                            payload   latency  \\\n",
       "0          200  {'signature': '0xa25825bf160189b160a85980b0d02...  406.2623   \n",
       "1          200  {'signature': '0xa202d72813638e7bcf0e8d90942e5...  366.0465   \n",
       "2          200  {'signature': '0xb6ffc3c152b40b8c2ef666c3bf564...  454.8093   \n",
       "3          200  {'signature': '0x83da8041d55269c847612d82257ff...  464.4123   \n",
       "4          200  {'signature': '0x997e3abb06ad93bf5cad8510a197b...  407.8439   \n",
       "\n",
       "   throughput  \n",
       "0          60  \n",
       "1          60  \n",
       "2          60  \n",
       "3          60  \n",
       "4          60  "
      ]
     },
     "execution_count": 6,
     "metadata": {},
     "output_type": "execute_result"
    }
   ],
   "source": [
    "dfs = []\n",
    "parent_file_location = os.path.dirname(os.path.abspath(os.getcwd()))\n",
    "latnecy_data_path = os.path.join(parent_file_location,'results','throughput','unsecure')\n",
    "for root, dir,files in os.walk(latnecy_data_path):\n",
    "    for file in files:\n",
    "        if file == 'raw_data.csv':\n",
    "            file_path = os.path.join(root, file)\n",
    "            df = pd.read_csv(file_path)\n",
    "            dfs.append(df)\n",
    "raw_df_unsecure = pd.concat(dfs, ignore_index=True)\n",
    "raw_df_unsecure.head()\n",
    "success_df_unsecure = raw_df_unsecure[raw_df_unsecure['return_code'] == 200]\n",
    "success_df_unsecure['latency'] = success_df_unsecure['latency']*1000\n",
    "success_df_unsecure.head()"
   ]
  },
  {
   "cell_type": "code",
   "execution_count": 7,
   "metadata": {},
   "outputs": [
    {
     "data": {
      "text/plain": [
       "(100, 4)"
      ]
     },
     "execution_count": 7,
     "metadata": {},
     "output_type": "execute_result"
    }
   ],
   "source": [
    "success_df_unsecure.shape"
   ]
  },
  {
   "cell_type": "code",
   "execution_count": 9,
   "metadata": {},
   "outputs": [],
   "source": [
    "grouped_results_secure = success_df_secure.groupby('throughput')\n",
    "grouped_results_secure = grouped_results_secure['latency'].agg(\n",
    "    sample_count=('count'),\n",
    "    mean_value=('mean'),\n",
    "    percentile_25=lambda x: x.quantile(0.25),\n",
    "    percentile_50=lambda x: x.quantile(0.5),\n",
    "    percentile_75=lambda x: x.quantile(0.75),\n",
    "    percentile_95=lambda x: x.quantile(0.95)\n",
    ").reset_index()"
   ]
  },
  {
   "cell_type": "code",
   "execution_count": 10,
   "metadata": {},
   "outputs": [
    {
     "data": {
      "text/html": [
       "<div>\n",
       "<style scoped>\n",
       "    .dataframe tbody tr th:only-of-type {\n",
       "        vertical-align: middle;\n",
       "    }\n",
       "\n",
       "    .dataframe tbody tr th {\n",
       "        vertical-align: top;\n",
       "    }\n",
       "\n",
       "    .dataframe thead th {\n",
       "        text-align: right;\n",
       "    }\n",
       "</style>\n",
       "<table border=\"1\" class=\"dataframe\">\n",
       "  <thead>\n",
       "    <tr style=\"text-align: right;\">\n",
       "      <th></th>\n",
       "      <th>throughput</th>\n",
       "      <th>sample_count</th>\n",
       "      <th>mean_value</th>\n",
       "      <th>percentile_25</th>\n",
       "      <th>percentile_50</th>\n",
       "      <th>percentile_75</th>\n",
       "      <th>percentile_95</th>\n",
       "    </tr>\n",
       "  </thead>\n",
       "  <tbody>\n",
       "    <tr>\n",
       "      <th>0</th>\n",
       "      <td>60</td>\n",
       "      <td>100</td>\n",
       "      <td>382.308105</td>\n",
       "      <td>372.654975</td>\n",
       "      <td>376.82695</td>\n",
       "      <td>382.586125</td>\n",
       "      <td>432.771735</td>\n",
       "    </tr>\n",
       "  </tbody>\n",
       "</table>\n",
       "</div>"
      ],
      "text/plain": [
       "   throughput  sample_count  mean_value  percentile_25  percentile_50  \\\n",
       "0          60           100  382.308105     372.654975      376.82695   \n",
       "\n",
       "   percentile_75  percentile_95  \n",
       "0     382.586125     432.771735  "
      ]
     },
     "execution_count": 10,
     "metadata": {},
     "output_type": "execute_result"
    }
   ],
   "source": [
    "grouped_results_secure.head()"
   ]
  },
  {
   "cell_type": "code",
   "execution_count": 12,
   "metadata": {},
   "outputs": [],
   "source": [
    "grouped_results_unsecure = success_df_unsecure.groupby('throughput')\n",
    "grouped_results_unsecure = grouped_results_unsecure['latency'].agg(\n",
    "    sample_count=('count'),\n",
    "    mean_value=('mean'),\n",
    "    percentile_25=lambda x: x.quantile(0.25),\n",
    "    percentile_50=lambda x: x.quantile(0.5),\n",
    "    percentile_75=lambda x: x.quantile(0.75),\n",
    "    percentile_95=lambda x: x.quantile(0.95)\n",
    ").reset_index()"
   ]
  },
  {
   "cell_type": "code",
   "execution_count": 13,
   "metadata": {},
   "outputs": [
    {
     "data": {
      "text/html": [
       "<div>\n",
       "<style scoped>\n",
       "    .dataframe tbody tr th:only-of-type {\n",
       "        vertical-align: middle;\n",
       "    }\n",
       "\n",
       "    .dataframe tbody tr th {\n",
       "        vertical-align: top;\n",
       "    }\n",
       "\n",
       "    .dataframe thead th {\n",
       "        text-align: right;\n",
       "    }\n",
       "</style>\n",
       "<table border=\"1\" class=\"dataframe\">\n",
       "  <thead>\n",
       "    <tr style=\"text-align: right;\">\n",
       "      <th></th>\n",
       "      <th>throughput</th>\n",
       "      <th>sample_count</th>\n",
       "      <th>mean_value</th>\n",
       "      <th>percentile_25</th>\n",
       "      <th>percentile_50</th>\n",
       "      <th>percentile_75</th>\n",
       "      <th>percentile_95</th>\n",
       "    </tr>\n",
       "  </thead>\n",
       "  <tbody>\n",
       "    <tr>\n",
       "      <th>0</th>\n",
       "      <td>60</td>\n",
       "      <td>100</td>\n",
       "      <td>382.87355</td>\n",
       "      <td>372.149575</td>\n",
       "      <td>375.2991</td>\n",
       "      <td>381.522075</td>\n",
       "      <td>427.102455</td>\n",
       "    </tr>\n",
       "  </tbody>\n",
       "</table>\n",
       "</div>"
      ],
      "text/plain": [
       "   throughput  sample_count  mean_value  percentile_25  percentile_50  \\\n",
       "0          60           100   382.87355     372.149575       375.2991   \n",
       "\n",
       "   percentile_75  percentile_95  \n",
       "0     381.522075     427.102455  "
      ]
     },
     "execution_count": 13,
     "metadata": {},
     "output_type": "execute_result"
    }
   ],
   "source": [
    "grouped_results_unsecure.head()"
   ]
  },
  {
   "cell_type": "code",
   "execution_count": 15,
   "metadata": {},
   "outputs": [],
   "source": [
    "merged_results = pd.merge(grouped_results_unsecure,grouped_results_secure, on='throughput', suffixes=('_unsecure','_secure'))"
   ]
  },
  {
   "cell_type": "code",
   "execution_count": 16,
   "metadata": {},
   "outputs": [
    {
     "data": {
      "text/html": [
       "<div>\n",
       "<style scoped>\n",
       "    .dataframe tbody tr th:only-of-type {\n",
       "        vertical-align: middle;\n",
       "    }\n",
       "\n",
       "    .dataframe tbody tr th {\n",
       "        vertical-align: top;\n",
       "    }\n",
       "\n",
       "    .dataframe thead th {\n",
       "        text-align: right;\n",
       "    }\n",
       "</style>\n",
       "<table border=\"1\" class=\"dataframe\">\n",
       "  <thead>\n",
       "    <tr style=\"text-align: right;\">\n",
       "      <th></th>\n",
       "      <th>throughput</th>\n",
       "      <th>sample_count_unasecure</th>\n",
       "      <th>mean_value_unasecure</th>\n",
       "      <th>percentile_25_unasecure</th>\n",
       "      <th>percentile_50_unasecure</th>\n",
       "      <th>percentile_75_unasecure</th>\n",
       "      <th>percentile_95_unasecure</th>\n",
       "      <th>sample_count_secure</th>\n",
       "      <th>mean_value_secure</th>\n",
       "      <th>percentile_25_secure</th>\n",
       "      <th>percentile_50_secure</th>\n",
       "      <th>percentile_75_secure</th>\n",
       "      <th>percentile_95_secure</th>\n",
       "    </tr>\n",
       "  </thead>\n",
       "  <tbody>\n",
       "    <tr>\n",
       "      <th>0</th>\n",
       "      <td>60</td>\n",
       "      <td>100</td>\n",
       "      <td>382.87355</td>\n",
       "      <td>372.149575</td>\n",
       "      <td>375.2991</td>\n",
       "      <td>381.522075</td>\n",
       "      <td>427.102455</td>\n",
       "      <td>100</td>\n",
       "      <td>382.308105</td>\n",
       "      <td>372.654975</td>\n",
       "      <td>376.82695</td>\n",
       "      <td>382.586125</td>\n",
       "      <td>432.771735</td>\n",
       "    </tr>\n",
       "  </tbody>\n",
       "</table>\n",
       "</div>"
      ],
      "text/plain": [
       "   throughput  sample_count_unasecure  mean_value_unasecure  \\\n",
       "0          60                     100             382.87355   \n",
       "\n",
       "   percentile_25_unasecure  percentile_50_unasecure  percentile_75_unasecure  \\\n",
       "0               372.149575                 375.2991               381.522075   \n",
       "\n",
       "   percentile_95_unasecure  sample_count_secure  mean_value_secure  \\\n",
       "0               427.102455                  100         382.308105   \n",
       "\n",
       "   percentile_25_secure  percentile_50_secure  percentile_75_secure  \\\n",
       "0            372.654975             376.82695            382.586125   \n",
       "\n",
       "   percentile_95_secure  \n",
       "0            432.771735  "
      ]
     },
     "execution_count": 16,
     "metadata": {},
     "output_type": "execute_result"
    }
   ],
   "source": [
    "merged_results.head()"
   ]
  }
 ],
 "metadata": {
  "kernelspec": {
   "display_name": "venv",
   "language": "python",
   "name": "python3"
  },
  "language_info": {
   "codemirror_mode": {
    "name": "ipython",
    "version": 3
   },
   "file_extension": ".py",
   "mimetype": "text/x-python",
   "name": "python",
   "nbconvert_exporter": "python",
   "pygments_lexer": "ipython3",
   "version": "3.12.5"
  }
 },
 "nbformat": 4,
 "nbformat_minor": 2
}
